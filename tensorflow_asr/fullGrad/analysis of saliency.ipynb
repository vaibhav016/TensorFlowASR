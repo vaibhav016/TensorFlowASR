{
 "cells": [
  {
   "cell_type": "code",
   "execution_count": 1,
   "id": "sixth-operations",
   "metadata": {},
   "outputs": [],
   "source": [
    "import tensorflow as tf\n",
    "from tensorflow.keras.layers import *\n",
    "from tensorflow.keras.models import *\n",
    "from tensorflow.keras import backend as K\n",
    "from tensorflow.keras.applications.vgg16 import preprocess_input as vgg_preprocess\n",
    "from tensorflow.keras.applications.resnet50 import preprocess_input as resnet_preprocess\n",
    "from tensorflow.keras.applications.densenet import preprocess_input as densenet_preprocess\n",
    "from tensorflow.keras.applications.xception import preprocess_input as xception_preprocess\n",
    "from tensorflow.keras.preprocessing.image import load_img,img_to_array\n",
    "import numpy as np\n",
    "import cv2\n",
    "from tensorflow.keras.applications import VGG16\n",
    "from matplotlib import pyplot as plt\n",
    "from tensorflow.keras.applications.resnet50 import ResNet50\n",
    "from tensorflow.keras.applications import DenseNet169,Xception\n",
    "import os\n",
    "from fullgrad import FullGrad\n",
    "import ast"
   ]
  },
  {
   "cell_type": "code",
   "execution_count": 2,
   "id": "duplicate-programming",
   "metadata": {},
   "outputs": [],
   "source": [
    "K.clear_session()\n",
    "\n",
    "base_models=[VGG16(weights='imagenet')]\n",
    "base_preprocess=[vgg_preprocess]\n",
    "base_model_names=['VGG']"
   ]
  },
  {
   "cell_type": "code",
   "execution_count": 5,
   "id": "individual-topic",
   "metadata": {},
   "outputs": [],
   "source": [
    "base_model = base_models[0]"
   ]
  },
  {
   "cell_type": "code",
   "execution_count": 6,
   "id": "fitted-foundation",
   "metadata": {},
   "outputs": [],
   "source": [
    "newmodel=Model(base_model.input,base_model.layers[-2].output)"
   ]
  },
  {
   "cell_type": "code",
   "execution_count": 2,
   "id": "exclusive-profile",
   "metadata": {},
   "outputs": [],
   "source": [
    "import os\n",
    "\n",
    "import torch.nn as nn\n",
    "import torch.nn.functional as F\n",
    "from torchvision import datasets\n",
    "\n",
    "\n",
    "class Net(nn.Module):\n",
    "    def __init__(self):\n",
    "        super().__init__()\n",
    "        self.conv1 = nn.Conv2d(3, 6, 5)\n",
    "        self.pool = nn.MaxPool2d(2, 2)\n",
    "        self.conv2 = nn.Conv2d(6, 16, 5)\n",
    "        self.fc1 = nn.Linear(16 * 5 * 5, 120)\n",
    "        self.fc2 = nn.Linear(120, 84)\n",
    "        self.fc3 = nn.Linear(84, 10)\n",
    "\n",
    "    def forward(self, x):\n",
    "        x = self.pool(F.relu(self.conv1(x)))\n",
    "        x = self.pool(F.relu(self.conv2(x)))\n",
    "        x = torch.flatten(x, 1) # flatten all dimensions except batch\n",
    "        x = F.relu(self.fc1(x))\n",
    "        x = F.relu(self.fc2(x))\n",
    "        x = self.fc3(x)\n",
    "        return x"
   ]
  },
  {
   "cell_type": "code",
   "execution_count": 16,
   "id": "institutional-syndrome",
   "metadata": {},
   "outputs": [],
   "source": [
    "model = Net()"
   ]
  },
  {
   "cell_type": "code",
   "execution_count": 17,
   "id": "developing-istanbul",
   "metadata": {},
   "outputs": [
    {
     "name": "stdout",
     "output_type": "stream",
     "text": [
      "torch.Size([6, 3, 5, 5])\n",
      "torch.Size([6])\n",
      "torch.Size([16, 6, 5, 5])\n",
      "torch.Size([16])\n",
      "torch.Size([120, 400])\n",
      "torch.Size([120])\n",
      "torch.Size([84, 120])\n",
      "torch.Size([84])\n",
      "torch.Size([10, 84])\n",
      "torch.Size([10])\n"
     ]
    }
   ],
   "source": [
    "m = list(model.parameters())\n",
    "for i in range(10):\n",
    "    print(m[i].shape)"
   ]
  },
  {
   "cell_type": "code",
   "execution_count": 13,
   "id": "dressed-column",
   "metadata": {},
   "outputs": [
    {
     "name": "stdout",
     "output_type": "stream",
     "text": [
      "torch.Size([6, 3, 5, 5])\n",
      "torch.Size([6])\n",
      "torch.Size([16, 6, 5, 5])\n",
      "torch.Size([16])\n",
      "torch.Size([120, 400])\n",
      "torch.Size([120])\n",
      "torch.Size([84, 120])\n",
      "torch.Size([84])\n",
      "torch.Size([10, 84])\n",
      "torch.Size([10])\n"
     ]
    }
   ],
   "source": [
    "for i in range(10):\n",
    "    print(m[i].shape)"
   ]
  },
  {
   "cell_type": "code",
   "execution_count": null,
   "id": "standard-landing",
   "metadata": {},
   "outputs": [],
   "source": [
    "for layer in model.modules():\n",
    "    if isinstance(layer, torch.nn.modules.conv.Conv2d):\n",
    "        handle = layer.register_forward_hook(save_output)\n",
    "        hook_handles.append(handle)"
   ]
  },
  {
   "cell_type": "code",
   "execution_count": 24,
   "id": "second-skirt",
   "metadata": {},
   "outputs": [
    {
     "name": "stdout",
     "output_type": "stream",
     "text": [
      "<torch.utils.hooks.RemovableHandle object at 0x7f8e83efd8e0>\n",
      "<torch.utils.hooks.RemovableHandle object at 0x7f8e83efd040>\n"
     ]
    }
   ],
   "source": [
    "# hooks \n",
    "# back hook\n",
    "hook_handles = []\n",
    "import torch\n",
    "feat_grad = []\n",
    "def _grads(module, in_grad, out_grad):\n",
    "    feat_grad.append(out_grad)\n",
    "    \n",
    "for layer in model.modules():\n",
    "    if isinstance(layer, torch.nn.modules.conv.Conv2d):\n",
    "        handle = layer.register_forward_hook(_grads)\n",
    "        hook_handles.append(handle)\n",
    "\n",
    "for hooks in hook_handles:\n",
    "    print(hooks)"
   ]
  },
  {
   "cell_type": "code",
   "execution_count": 33,
   "id": "constitutional-socket",
   "metadata": {},
   "outputs": [
    {
     "name": "stdout",
     "output_type": "stream",
     "text": [
      "yes\n",
      "torch.Size([6])\n",
      "yes\n",
      "torch.Size([16])\n",
      "yes\n",
      "torch.Size([120])\n",
      "yes\n",
      "torch.Size([84])\n",
      "yes\n",
      "torch.Size([10])\n"
     ]
    }
   ],
   "source": [
    "for layer in model.modules():\n",
    "    if isinstance(layer, nn.Conv2d) or isinstance(layer, nn.Linear):\n",
    "        print(\"yes\")\n",
    "        if layer.bias is not None:\n",
    "            print(layer.bias.shape)"
   ]
  },
  {
   "cell_type": "code",
   "execution_count": 92,
   "id": "complicated-cricket",
   "metadata": {},
   "outputs": [],
   "source": [
    "from keras.models import Sequential, Model\n",
    "from keras.models import Sequential, Model\n",
    "from keras.layers import Input, Dense, Embedding, Conv2D, MaxPooling2D, Dropout,concatenate\n",
    "from keras.layers import Dense, Flatten,Input, LSTM, Conv2D, MaxPooling1D, Dropout, Activation, Bidirectional,Dense, Input, Embedding, Dropout,SpatialDropout1D\n",
    "from keras.optimizers import Adam\n",
    "from keras.layers.embeddings import Embedding\n",
    "from keras.callbacks import Callback, EarlyStopping, ModelCheckpoint\n",
    "from keras.engine import Layer\n",
    "from keras.layers import Activation, Add, Bidirectional, Conv1D, Dense, Dropout, Embedding, Flatten,SeparableConv1D\n",
    "from keras.layers import concatenate, GRU, Input, LSTM, MaxPooling1D\n",
    "from keras.layers import GlobalAveragePooling1D,  GlobalMaxPooling1D, SpatialDropout1D\n",
    "from keras.models import Model\n",
    "\n",
    "model = Sequential()\n",
    "model.add(Input(shape=(None,5)))\n",
    "model.add(SeparableConv1D(1, kernel_size=3))\n"
   ]
  },
  {
   "cell_type": "code",
   "execution_count": 93,
   "id": "centered-relevance",
   "metadata": {},
   "outputs": [
    {
     "name": "stdout",
     "output_type": "stream",
     "text": [
      "Model: \"sequential_29\"\n",
      "_________________________________________________________________\n",
      "Layer (type)                 Output Shape              Param #   \n",
      "=================================================================\n",
      "separable_conv1d_16 (Separab (None, None, 1)           21        \n",
      "=================================================================\n",
      "Total params: 21\n",
      "Trainable params: 21\n",
      "Non-trainable params: 0\n",
      "_________________________________________________________________\n"
     ]
    }
   ],
   "source": [
    "model.summary()"
   ]
  },
  {
   "cell_type": "code",
   "execution_count": 42,
   "id": "retained-graph",
   "metadata": {},
   "outputs": [],
   "source": [
    "t = model.get_weights()"
   ]
  },
  {
   "cell_type": "code",
   "execution_count": 43,
   "id": "charitable-superior",
   "metadata": {},
   "outputs": [
    {
     "name": "stdout",
     "output_type": "stream",
     "text": [
      "4\n"
     ]
    }
   ],
   "source": [
    "print(len(t))"
   ]
  },
  {
   "cell_type": "code",
   "execution_count": 45,
   "id": "fundamental-phase",
   "metadata": {},
   "outputs": [
    {
     "name": "stdout",
     "output_type": "stream",
     "text": [
      "(5, 20)\n",
      "(20,)\n",
      "(20, 1)\n",
      "(1,)\n"
     ]
    }
   ],
   "source": [
    "for i in t:\n",
    "    print(i.shape)"
   ]
  },
  {
   "cell_type": "code",
   "execution_count": null,
   "id": "crude-today",
   "metadata": {},
   "outputs": [],
   "source": []
  }
 ],
 "metadata": {
  "kernelspec": {
   "display_name": "Python 3",
   "language": "python",
   "name": "python3"
  },
  "language_info": {
   "codemirror_mode": {
    "name": "ipython",
    "version": 3
   },
   "file_extension": ".py",
   "mimetype": "text/x-python",
   "name": "python",
   "nbconvert_exporter": "python",
   "pygments_lexer": "ipython3",
   "version": "3.8.5"
  }
 },
 "nbformat": 4,
 "nbformat_minor": 5
}
