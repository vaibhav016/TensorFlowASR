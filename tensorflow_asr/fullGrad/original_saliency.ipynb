{
 "cells": [
  {
   "cell_type": "code",
   "execution_count": 10,
   "id": "sufficient-worst",
   "metadata": {},
   "outputs": [],
   "source": [
    "import torch\n",
    "from torchvision import datasets, transforms, utils, models\n",
    "import os\n",
    "from misc_functions import NormalizeInverse"
   ]
  },
  {
   "cell_type": "code",
   "execution_count": 11,
   "id": "supposed-denver",
   "metadata": {},
   "outputs": [],
   "source": [
    "dataset = \"/Users/vaibhavsingh/Desktop/TensorFlowASR/tensorflow_asr/fullGrad/dataset\"\n",
    "batch_size = 5\n",
    "\n",
    "cuda = torch.cuda.is_available()\n",
    "device = torch.device(\"cuda\" if cuda else \"cpu\")\n",
    "\n",
    "# Dataset loader for sample images\n",
    "sample_loader = torch.utils.data.DataLoader(\n",
    "    datasets.ImageFolder(dataset, transform=transforms.Compose([\n",
    "                       transforms.Resize((224,224)),\n",
    "                       transforms.ToTensor(),\n",
    "                       transforms.Normalize(mean = [0.485, 0.456, 0.406],\n",
    "                                        std = [0.229, 0.224, 0.225])\n",
    "                   ])),\n",
    "    batch_size= batch_size, shuffle=False)\n",
    "\n",
    "unnormalize = NormalizeInverse(mean = [0.485, 0.456, 0.406],\n",
    "                           std = [0.229, 0.224, 0.225])"
   ]
  },
  {
   "cell_type": "code",
   "execution_count": 12,
   "id": "spanish-shame",
   "metadata": {},
   "outputs": [],
   "source": [
    "model = models.resnet18(pretrained=True)\n",
    "model = model.to(device)"
   ]
  },
  {
   "cell_type": "code",
   "execution_count": 17,
   "id": "descending-reverse",
   "metadata": {},
   "outputs": [
    {
     "data": {
      "text/plain": [
       "<torch.utils.data.dataloader.DataLoader at 0x7fe82599b520>"
      ]
     },
     "execution_count": 17,
     "metadata": {},
     "output_type": "execute_result"
    }
   ],
   "source": [
    "from   torchsummary import summary\n",
    "summary(model, (3,224,224))"
   ]
  },
  {
   "cell_type": "code",
   "execution_count": 100,
   "id": "incorrect-warrant",
   "metadata": {},
   "outputs": [],
   "source": [
    "inp = torch.randn((3,3,4))"
   ]
  },
  {
   "cell_type": "code",
   "execution_count": 101,
   "id": "widespread-cliff",
   "metadata": {},
   "outputs": [],
   "source": [
    "k = inp.data.max(2)"
   ]
  },
  {
   "cell_type": "code",
   "execution_count": 102,
   "id": "deadly-clark",
   "metadata": {},
   "outputs": [
    {
     "data": {
      "text/plain": [
       "torch.return_types.max(\n",
       "values=tensor([[1.4764, 1.2954, 0.4273],\n",
       "        [1.0198, 1.1886, 0.4986],\n",
       "        [1.0086, 1.0718, 1.0900]]),\n",
       "indices=tensor([[2, 1, 1],\n",
       "        [1, 2, 1],\n",
       "        [1, 2, 2]]))"
      ]
     },
     "execution_count": 102,
     "metadata": {},
     "output_type": "execute_result"
    }
   ],
   "source": [
    "k"
   ]
  },
  {
   "cell_type": "code",
   "execution_count": 103,
   "id": "dense-census",
   "metadata": {},
   "outputs": [
    {
     "data": {
      "text/plain": [
       "tensor([[[-1.2938, -0.0466,  1.4764, -0.2667],\n",
       "         [-0.4637,  1.2954,  0.5649, -1.7718],\n",
       "         [-0.4330,  0.4273, -0.9773, -0.7520]],\n",
       "\n",
       "        [[-1.6108,  1.0198, -0.2894,  0.8987],\n",
       "         [ 0.2989,  0.0060,  1.1886, -1.8038],\n",
       "         [-2.3815,  0.4986, -1.3348, -1.1276]],\n",
       "\n",
       "        [[-0.4833,  1.0086, -0.2291,  0.2581],\n",
       "         [-1.4905, -0.1931,  1.0718,  0.6787],\n",
       "         [-0.1120, -0.5982,  1.0900,  0.6604]]])"
      ]
     },
     "execution_count": 103,
     "metadata": {},
     "output_type": "execute_result"
    }
   ],
   "source": [
    "inp"
   ]
  },
  {
   "cell_type": "code",
   "execution_count": null,
   "id": "appreciated-procedure",
   "metadata": {},
   "outputs": [],
   "source": []
  }
 ],
 "metadata": {
  "kernelspec": {
   "display_name": "Python 3",
   "language": "python",
   "name": "python3"
  },
  "language_info": {
   "codemirror_mode": {
    "name": "ipython",
    "version": 3
   },
   "file_extension": ".py",
   "mimetype": "text/x-python",
   "name": "python",
   "nbconvert_exporter": "python",
   "pygments_lexer": "ipython3",
   "version": "3.8.5"
  }
 },
 "nbformat": 4,
 "nbformat_minor": 5
}
